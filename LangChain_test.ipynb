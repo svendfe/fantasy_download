{
 "cells": [
  {
   "cell_type": "code",
   "execution_count": 1,
   "id": "dfb1c21b",
   "metadata": {},
   "outputs": [
    {
     "name": "stdout",
     "output_type": "stream",
     "text": [
      "Note: you may need to restart the kernel to use updated packages.\n"
     ]
    }
   ],
   "source": [
    "%pip install -q langchain langchain-groq python-dotenv faiss-cpu langchain_huggingface beautifulsoup4 langgraph"
   ]
  },
  {
   "cell_type": "code",
   "execution_count": 2,
   "id": "3ef39ca0",
   "metadata": {},
   "outputs": [
    {
     "name": "stdout",
     "output_type": "stream",
     "text": [
      "✅ Groq API Key configured.\n"
     ]
    }
   ],
   "source": [
    "from dotenv import load_dotenv\n",
    "import os\n",
    "load_dotenv()\n",
    "#Using google.colab secrets\n",
    "api_key = os.getenv(\"GROQ_API_KEY\")\n",
    "\n",
    "if not api_key:\n",
    "    print(\"🛑 Groq API Key not found. Please make sure to set it up.\")\n",
    "else:\n",
    "    print(\"✅ Groq API Key configured.\")"
   ]
  },
  {
   "cell_type": "code",
   "execution_count": 3,
   "id": "10177c6e",
   "metadata": {},
   "outputs": [
    {
     "name": "stdout",
     "output_type": "stream",
     "text": [
      "Language Model initialized with Groq.\n"
     ]
    }
   ],
   "source": [
    "# Initialize the Chat model with Groq\n",
    "# We'll use Llama3 8B, a fast and competent model\n",
    "from langchain_groq import ChatGroq\n",
    "\n",
    "\n",
    "llm = ChatGroq(model_name=\"llama-3.1-8b-instant\", groq_api_key=api_key)\n",
    "\n",
    "\n",
    "print(\"Language Model initialized with Groq.\")"
   ]
  },
  {
   "cell_type": "markdown",
   "id": "dedc1d73",
   "metadata": {},
   "source": [
    "Let´s decide who is worth it in the market, to buy or not to buy"
   ]
  },
  {
   "cell_type": "code",
   "execution_count": 18,
   "id": "e7644453",
   "metadata": {},
   "outputs": [],
   "source": [
    "#Firstly, let´s load and clean the market data\n",
    "import json\n",
    "market_file_path = \"market/market_20250930.json\"\n",
    "with open(market_file_path, \"r\", encoding=\"utf-8\") as f:\n",
    "    market_data = json.load(f)\n",
    "\n",
    "# Extract only the fields you need\n",
    "extracted = []\n",
    "for item in market_data:\n",
    "    extracted.append({\n",
    "        \"player_id\": item[\"playerMaster\"][\"id\"],\n",
    "        \"salePrice\": item.get(\"salePrice\"),\n",
    "        \"numberOfBids\": item.get(\"numberOfBids\", 0)  # default to 0 if missing\n",
    "    })"
   ]
  },
  {
   "cell_type": "code",
   "execution_count": 26,
   "id": "cea9a66c",
   "metadata": {},
   "outputs": [
    {
     "name": "stderr",
     "output_type": "stream",
     "text": [
      "2025-09-30 23:13:25,011 - INFO - Loading environment variables...\n",
      "2025-09-30 23:13:25,014 - INFO - Refreshing the token...\n",
      "2025-09-30 23:13:25,397 - INFO - Token refreshed successfully.\n"
     ]
    }
   ],
   "source": [
    "#Firstly, let´s load and clean the market data\n",
    "import json\n",
    "import requests\n",
    "\n",
    "from download_pipeline import get_autorization_headers, make_request\n",
    "\n",
    "header = get_autorization_headers()\n",
    "market_file_path = \"market/market_20250930.json\"\n",
    "with open(market_file_path, \"r\", encoding=\"utf-8\") as f:\n",
    "    market_data = json.load(f)\n",
    "\n",
    "# Extract only the fields you need\n",
    "extracted = []\n",
    "for item in market_data:\n",
    "    player_id = item[\"playerMaster\"][\"id\"]\n",
    "    entry = {\n",
    "        \"player_id\": player_id,\n",
    "        \"salePrice\": item.get(\"salePrice\"),\n",
    "        \"numberOfBids\": item.get(\"numberOfBids\", 0),\n",
    "    }\n",
    "\n",
    "    # Build the API URL\n",
    "    url = f\"https://api-fantasy.llt-services.com/api/v3/player/{player_id}/market-value?x-lang=en\"\n",
    "    try:\n",
    "        data = make_request(\"GET\", url, headers=header)\n",
    "        entry[\"marketValueInfo\"] = data\n",
    "\n",
    "    except requests.exceptions.RequestException as e:\n",
    "        print(f\"Error fetching data for player {player_id}: {e}\")\n",
    "        entry[\"marketValueInfo\"] = None\n",
    "\n",
    "    extracted.append(entry)"
   ]
  },
  {
   "cell_type": "code",
   "execution_count": 30,
   "id": "b365b55e",
   "metadata": {},
   "outputs": [
    {
     "data": {
      "text/plain": [
       "51"
      ]
     },
     "execution_count": 30,
     "metadata": {},
     "output_type": "execute_result"
    }
   ],
   "source": [
    "len(extracted[0][\"marketValueInfo\"])"
   ]
  },
  {
   "cell_type": "code",
   "execution_count": null,
   "id": "c1bb2b64",
   "metadata": {},
   "outputs": [],
   "source": []
  }
 ],
 "metadata": {
  "kernelspec": {
   "display_name": ".venv",
   "language": "python",
   "name": "python3"
  },
  "language_info": {
   "codemirror_mode": {
    "name": "ipython",
    "version": 3
   },
   "file_extension": ".py",
   "mimetype": "text/x-python",
   "name": "python",
   "nbconvert_exporter": "python",
   "pygments_lexer": "ipython3",
   "version": "3.10.11"
  }
 },
 "nbformat": 4,
 "nbformat_minor": 5
}
